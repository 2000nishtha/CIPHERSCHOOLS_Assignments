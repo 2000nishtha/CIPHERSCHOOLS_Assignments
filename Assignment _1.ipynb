{
 "cells": [
  {
   "cell_type": "code",
   "execution_count": 25,
   "metadata": {},
   "outputs": [
    {
     "name": "stdout",
     "output_type": "stream",
     "text": [
      "Enter the number of elements:4\n",
      "Enter the element:1\n",
      "Enter the element:1\n",
      "Enter the element:2\n",
      "Enter the element:3\n",
      "{1, 2, 3}\n"
     ]
    }
   ],
   "source": [
    "#Q1\n",
    "l=[]\n",
    "n=int(input(\"Enter the number of elements:\"))\n",
    "for i in range(n):\n",
    "    l.append(int (input(\"Enter the element:\")))\n",
    "    d=set(l)\n",
    "print(d)"
   ]
  },
  {
   "cell_type": "code",
   "execution_count": null,
   "metadata": {},
   "outputs": [],
   "source": [
    "#Q2\n",
    "l=tuple(l)\n",
    "n=int(input(\"Enter the number of elements:\"))\n",
    "for i in range(n):\n",
    "    l.append(int(input(\"Enter the element:\")))\n",
    "print(l)\n",
    "print(len(l))\n",
    "print(max(l))\n",
    "print(min(l))"
   ]
  },
  {
   "cell_type": "code",
   "execution_count": null,
   "metadata": {},
   "outputs": [],
   "source": [
    "#Q3\n",
    "num=13\n",
    "i=1\n",
    "magical no.=1>>2\n",
    "new_no.=if(num or magical no. >0):\n",
    "    print(new_no.)    "
   ]
  },
  {
   "cell_type": "code",
   "execution_count": null,
   "metadata": {},
   "outputs": [],
   "source": [
    "#Q4\n",
    "x=int(intput(\"Enter the no.:\"))\n",
    "for x in range(0==x//2):\n",
    "    print(\"1\")\n",
    "print(\"0\")\n",
    "    \n",
    "    "
   ]
  },
  {
   "cell_type": "code",
   "execution_count": null,
   "metadata": {},
   "outputs": [],
   "source": [
    "#Q5\n",
    "A_list=[int(intput())]\n",
    "n=int(input(\"Enter the number of elements:\"))\n",
    "for i in range(n):\n",
    "    A_list.append(int(input(\"Enter the element:\")))\n",
    "\n",
    "B_list=[int(intput())]\n",
    "n=int(input(\"Enter the number of elements:\"))\n",
    "for i in range(n):\n",
    "    B_list.append(int(input(\"Enter the element:\")))\n",
    "\n",
    "print(A_list)\n",
    "print(B_list)\n",
    "list=[merge(A_list,B_list)]\n",
    "list.sort()\n",
    "print(list)"
   ]
  },
  {
   "cell_type": "code",
   "execution_count": null,
   "metadata": {},
   "outputs": [],
   "source": [
    "#Q6\n",
    "d=dict([\"name\":marks])\n",
    "name=(input(\"Enter the number of elements:\"))\n",
    "for i in range(name):\n",
    "    d.append(int(input(\"Enter the element:\")))\n",
    "marks=int(input(\"Enter the number of elements:\"))\n",
    "for i in range(marks):\n",
    "    d.append(int(input(\"Enter the element:\")))\n",
    "d.sort()\n",
    "print(d)\n"
   ]
  },
  {
   "cell_type": "code",
   "execution_count": null,
   "metadata": {},
   "outputs": [],
   "source": []
  }
 ],
 "metadata": {
  "kernelspec": {
   "display_name": "Python 3",
   "language": "python",
   "name": "python3"
  },
  "language_info": {
   "codemirror_mode": {
    "name": "ipython",
    "version": 3
   },
   "file_extension": ".py",
   "mimetype": "text/x-python",
   "name": "python",
   "nbconvert_exporter": "python",
   "pygments_lexer": "ipython3",
   "version": "3.7.6"
  }
 },
 "nbformat": 4,
 "nbformat_minor": 4
}
